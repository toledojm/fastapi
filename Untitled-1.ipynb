{
 "cells": [
  {
   "cell_type": "code",
   "execution_count": null,
   "metadata": {},
   "outputs": [],
   "source": [
    "import pandas as pd\n",
    "import urllib.request\n",
    "import ssl\n",
    "from fastapi import FastAPI\n",
    "import mysql.connector\n",
    "\n",
    "ssl._create_default_https_context = ssl._create_unverified_context\n",
    "circuits = urllib.request.urlopen('https://raw.githubusercontent.com/toledojm/PI01_DATA03/main/Datasets/circuits.csv')\n",
    "constructors= urllib.request.urlopen('https://raw.githubusercontent.com/toledojm/PI01_DATA03/main/Datasets/constructors.json')\n",
    "results= urllib.request.urlopen('https://raw.githubusercontent.com/toledojm/PI01_DATA03/main/Datasets/results.json')\n",
    "drivers= urllib.request.urlopen('https://raw.githubusercontent.com/toledojm/PI01_DATA03/main/Datasets/drivers.json')\n",
    "races= urllib.request.urlopen('https://raw.githubusercontent.com/toledojm/PI01_DATA03/main/Datasets/races.csv')\n",
    "\n",
    "df_circuits= pd.read_csv(circuits)\n",
    "df_constructors= pd.read_json(constructors,lines=True)\n",
    "df_results= pd.read_json(results,lines=True)\n",
    "df_drivers= pd.read_json(drivers,lines=True)\n",
    "df_races= pd.read_csv(races)\n",
    "\n",
    "df_constructors.drop('url', axis=1, inplace=True)\n",
    "df_circuits.drop(['lat','lng','alt','url','circuitRef'], axis=1, inplace=True)\n",
    "df_drivers=pd.concat([df_drivers,pd.json_normalize(df_drivers.name, max_level=1)],axis=1)\n",
    "df_races.drop(['url','time','date'], axis=1, inplace=True)\n",
    "df_drivers.drop(['name','url','dob','code','number'], axis=1, inplace=True)\n",
    "df_results.drop(['position','fastestLapTime','time','milliseconds','fastestLapSpeed','fastestLap','grid','positionText'], axis=1, inplace=True)\n",
    "\n",
    "\n",
    "\n",
    "\n",
    "mydb = mysql.connector.connect(\n",
    "  host=\"localhost\",\n",
    "  user=\"root\",\n",
    "  password=\"toledin1\"\n",
    ")\n",
    "\n",
    "mycursor = mydb.cursor()\n",
    "mycursor.execute(\"CREATE DATABASE mydatabase\")\n",
    "\n",
    "with mycursor as conn:\n",
    "    df_circuits.to_sql('circuit', conn, if_exists='append', index=False)\n",
    "    df_constructors.to_sql('constructor', conn, if_exists='append', index=False)\n",
    "    df_drivers.to_sql('driver', conn, if_exists='append', index=False)\n",
    "    df_results.to_sql('result', conn, if_exists='append', index=False)\n",
    "    df_races.to_sql('race', conn, if_exists='append', index=False)"
   ]
  }
 ],
 "metadata": {
  "language_info": {
   "name": "python"
  },
  "orig_nbformat": 4
 },
 "nbformat": 4,
 "nbformat_minor": 2
}
